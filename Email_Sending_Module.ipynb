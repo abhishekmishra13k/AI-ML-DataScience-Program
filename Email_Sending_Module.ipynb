{
  "nbformat": 4,
  "nbformat_minor": 0,
  "metadata": {
    "colab": {
      "name": "Email Sending Module.ipynb",
      "provenance": [],
      "authorship_tag": "ABX9TyPXN1PMVC1qBjZXz9A73OTH",
      "include_colab_link": true
    },
    "kernelspec": {
      "name": "python3",
      "display_name": "Python 3"
    }
  },
  "cells": [
    {
      "cell_type": "markdown",
      "metadata": {
        "id": "view-in-github",
        "colab_type": "text"
      },
      "source": [
        "<a href=\"https://colab.research.google.com/github/abhishekmusik/AI-ML-Program/blob/main/Email_Sending_Module.ipynb\" target=\"_parent\"><img src=\"https://colab.research.google.com/assets/colab-badge.svg\" alt=\"Open In Colab\"/></a>"
      ]
    },
    {
      "cell_type": "code",
      "metadata": {
        "id": "mdobRFJ4Si4e"
      },
      "source": [
        "#Description: This program sends email"
      ],
      "execution_count": null,
      "outputs": []
    },
    {
      "cell_type": "code",
      "metadata": {
        "id": "1SSF7ly7Soz2"
      },
      "source": [
        "#Import the libraries\r\n",
        "import smtplib\r\n",
        "import ssl\r\n",
        "from email.mime.text import MIMEText as MT\r\n",
        "from email.mime.multipart import MIMEMultipart as MM"
      ],
      "execution_count": null,
      "outputs": []
    },
    {
      "cell_type": "code",
      "metadata": {
        "id": "FtsFhOsuTHQ1"
      },
      "source": [
        "#Store the email addresses for the reciever and the sender and store the senders email and password\r\n",
        "reciever = 'Enter Reciever Email Here'\r\n",
        "sender = 'Enter Your Email Here'\r\n",
        "sender_password = 'Enter Your Password Here'"
      ],
      "execution_count": null,
      "outputs": []
    },
    {
      "cell_type": "code",
      "metadata": {
        "id": "x4PMMLqqUN98"
      },
      "source": [
        "#Create a MIMEMultipart Object\r\n",
        "msg = MM()\r\n",
        "msg['Subject'] = 'Python Programming is Amazing'\r\n",
        "msg['From'] = sender\r\n",
        "msg['To'] = reciever"
      ],
      "execution_count": null,
      "outputs": []
    },
    {
      "cell_type": "code",
      "metadata": {
        "id": "ebimy7PpVHNc"
      },
      "source": [
        "#Create the HTML message\r\n",
        "HTML = \"\"\"\r\n",
        "<html>\r\n",
        "  <body>\r\n",
        "    <h1> Python is good coding language </h1>\r\n",
        "    <img src = \"https://miro.medium.com/max/1400/1*zPSXEU6VZ6fCapPgrrnigA.jpeg\" alt =\"olympics_Image width=\"640\" height=\"340\"</img>\r\n",
        "    <h2>\r\n",
        "      <p> Hello, <br>\r\n",
        "        Check out: <a href=\"https://www.google.com\">Google</a>\r\n",
        "        Google Colaboratory is Amazing,\r\n",
        "      </p>\r\n",
        "    </h2>\r\n",
        "   </body>\r\n",
        "  </html>\r\n",
        "  \"\"\"\r\n"
      ],
      "execution_count": null,
      "outputs": []
    },
    {
      "cell_type": "code",
      "metadata": {
        "id": "Y9QqTPahYTY9"
      },
      "source": [
        "#Create a HTML MIMEText Object\r\n",
        "MTObj = MT(HTML, \"html\")\r\n"
      ],
      "execution_count": null,
      "outputs": []
    },
    {
      "cell_type": "code",
      "metadata": {
        "id": "bwRnV3fMYj4G"
      },
      "source": [
        "#Attach the MIMEText object into the message container\r\n",
        "msg.attach(MTObj)"
      ],
      "execution_count": null,
      "outputs": []
    },
    {
      "cell_type": "code",
      "metadata": {
        "id": "Qigtzt4AZINo"
      },
      "source": [
        "#Create a \"secure\" connection with the server and send the email\r\n",
        "#Create the secure socket layer (SSL) context object\r\n",
        "SSL_context = ssl.create_default_context()\r\n",
        "#Create the secure Simple Mail Transfer Protocol (SMTP) connection\r\n",
        "server = smtplib.SMTP_SSL(host= 'smtp.gmail.com', port = 465, context = SSL_context)\r\n",
        "#Login to the email account\r\n",
        "server.login(sender, sender_password)\r\n",
        "#Send the email\r\n",
        "server.sendmail(sender, reciever, msg.as_string())"
      ],
      "execution_count": null,
      "outputs": []
    },
    {
      "cell_type": "code",
      "metadata": {
        "id": "5KJue5oDbCVd"
      },
      "source": [
        ""
      ],
      "execution_count": null,
      "outputs": []
    }
  ]
}